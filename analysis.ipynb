{
 "cells": [
  {
   "cell_type": "code",
   "execution_count": null,
   "id": "eeff3156",
   "metadata": {},
   "outputs": [],
   "source": [
    "import numpy as np\n",
    "import matplotlib.pyplot as plt\n",
    "from scipy import stats\n",
    "import seaborn as sns\n",
    "\n",
    "import plottools"
   ]
  },
  {
   "cell_type": "markdown",
   "id": "3df49f7c",
   "metadata": {},
   "source": [
    "## Laden der Beispieldaten aus .npy-Dateien in das Jupyter Notebook"
   ]
  },
  {
   "cell_type": "code",
   "execution_count": null,
   "id": "d57555d5",
   "metadata": {},
   "outputs": [],
   "source": [
    "sample = np.load('data/copper_sample.npy')\n",
    "small_sample = np.load('data/copper_small_sample.npy')\n",
    "sample_contaminated = np.load('data/copper_sample_contaminated.npy')\n",
    "small_sample_contaminated = np.load('data/copper_sample_small_contaminated.npy')\n",
    "\n",
    "print(\"sample:\",sample)\n",
    "print(\"small sample:\", small_sample)\n",
    "print(\"sample contaminated:\", sample_contaminated)\n",
    "print(\"small sample contaminated:\", small_sample_contaminated)"
   ]
  },
  {
   "cell_type": "markdown",
   "id": "ffa5f1fc",
   "metadata": {},
   "source": [
    "## Berechnung von Kennwerten"
   ]
  },
  {
   "cell_type": "code",
   "execution_count": null,
   "id": "4f859379",
   "metadata": {},
   "outputs": [],
   "source": [
    "x_bar = np.mean(sample)\n",
    "variance = np.var(sample, ddof=1) #sample variance with Bessel's correction, i.e., n-1 in the denominator\n",
    "print(\"Mean of sample:\", x_bar)\n",
    "print(\"Empirical variance of sample:\", variance) "
   ]
  },
  {
   "cell_type": "markdown",
   "id": "284d47c4",
   "metadata": {},
   "source": [
    "## Graphische Dartstellungen\n",
    "Beispiele definiert in plottools.py"
   ]
  },
  {
   "cell_type": "code",
   "execution_count": null,
   "id": "674d6210",
   "metadata": {},
   "outputs": [],
   "source": [
    "plottools.plot_sample(sample, label=\"Kupfergehalt\")"
   ]
  },
  {
   "cell_type": "code",
   "execution_count": null,
   "id": "a4d14929",
   "metadata": {},
   "outputs": [],
   "source": [
    "plottools.plot_box([sample, small_sample], labels=['Sample', 'Small sample'], title='Boxplot: Sample vs. small sample')"
   ]
  },
  {
   "cell_type": "code",
   "execution_count": null,
   "id": "c36aa62a",
   "metadata": {},
   "outputs": [],
   "source": [
    "plottools.plot_violin([sample, small_sample], labels=['Sample', 'Small Sample'], title='Violinplot mit Punkten & Medianbeschriftung')"
   ]
  },
  {
   "cell_type": "markdown",
   "id": "2dbd1384",
   "metadata": {},
   "source": [
    "## Wichtige statistische Verteilungen"
   ]
  },
  {
   "cell_type": "code",
   "execution_count": null,
   "id": "586be102",
   "metadata": {},
   "outputs": [],
   "source": [
    "mu_0 = 5.0  # Grenzwert\n",
    "alpha = 0.05 # Signifikanzniveau"
   ]
  },
  {
   "cell_type": "code",
   "execution_count": null,
   "id": "0fe1a78e",
   "metadata": {},
   "outputs": [],
   "source": [
    "daten = sample\n",
    "n = len(daten)\n",
    "x_bar = np.mean(daten)\n",
    "s = np.std(daten, ddof=1)\n",
    "t_stat = (x_bar - mu_0) / (s / np.sqrt(n))\n",
    "print(\"Teststatistik:\", t_stat)\n",
    "p_wert = 1 - stats.t.cdf(t_stat, df=n-1)\n",
    "print(\"p-Wert:\", p_wert)"
   ]
  }
 ],
 "metadata": {
  "kernelspec": {
   "display_name": "statistik_env",
   "language": "python",
   "name": "python3"
  },
  "language_info": {
   "codemirror_mode": {
    "name": "ipython",
    "version": 3
   },
   "file_extension": ".py",
   "mimetype": "text/x-python",
   "name": "python",
   "nbconvert_exporter": "python",
   "pygments_lexer": "ipython3",
   "version": "3.11.13"
  }
 },
 "nbformat": 4,
 "nbformat_minor": 5
}
